{
 "cells": [
  {
   "cell_type": "markdown",
   "metadata": {},
   "source": [
    "### 1. 훈련 데이터를 분류하여 복사"
   ]
  },
  {
   "cell_type": "code",
   "execution_count": 1,
   "metadata": {},
   "outputs": [],
   "source": [
    "import os, shutil"
   ]
  },
  {
   "cell_type": "code",
   "execution_count": 2,
   "metadata": {},
   "outputs": [],
   "source": [
    "original_dataset_path = './dogsNcats'\n",
    "copy_train_path = './datasets'\n"
   ]
  },
  {
   "cell_type": "code",
   "execution_count": 5,
   "metadata": {},
   "outputs": [],
   "source": [
    "def copy_files(dogORcat_path,start_num,end_num,trainOrval_path):\n",
    "    \n",
    "    image_paths = [os.path.join(original_dataset_path,\"train\",dogORcat_path + '.' + str(i) + '.jpg')\n",
    "                  for i in range(start_num,end_num)]\n",
    "    \n",
    "    target_copy_paths = os.path.join(copy_train_path,trainOrval_path,dogORcat_path)\n",
    "    \n",
    "    if not os.path.isdir(target_copy_paths):\n",
    "        os.makedirs(target_copy_paths)\n",
    "        \n",
    "    for image_path in image_paths:\n",
    "        shutil.copy(image_path, target_copy_paths)\n",
    "        \n",
    "    print(\"데이터 복사가 완료되었습니다.\")\n",
    "    \n"
   ]
  },
  {
   "cell_type": "code",
   "execution_count": 6,
   "metadata": {},
   "outputs": [
    {
     "name": "stdout",
     "output_type": "stream",
     "text": [
      "데이터 복사가 완료되었습니다.\n",
      "데이터 복사가 완료되었습니다.\n",
      "데이터 복사가 완료되었습니다.\n",
      "데이터 복사가 완료되었습니다.\n"
     ]
    }
   ],
   "source": [
    "copy_files(\"dog\",0,10000,\"train\")\n",
    "copy_files(\"cat\",0,10000,\"train\")\n",
    "copy_files(\"dog\",10000,12500,\"validation\")\n",
    "copy_files(\"cat\",10000,12500,\"validation\")"
   ]
  },
  {
   "cell_type": "code",
   "execution_count": 8,
   "metadata": {},
   "outputs": [
    {
     "name": "stdout",
     "output_type": "stream",
     "text": [
      "훈련데이터 Dog 개수 10000\n",
      "훈련데이터 Cat 개수 10000\n",
      "검증데이터 Dog 개수 2500\n",
      "검증데이터 Cat 개수 2500\n"
     ]
    }
   ],
   "source": [
    "print(\"훈련데이터 Dog 개수\",len(os.listdir('./datasets/train/dog')))\n",
    "print(\"훈련데이터 Cat 개수\",len(os.listdir('./datasets/train/cat')))\n",
    "print(\"검증데이터 Dog 개수\",len(os.listdir('./datasets/validation/dog')))\n",
    "print(\"검증데이터 Cat 개수\",len(os.listdir('./datasets/validation/cat')))"
   ]
  },
  {
   "cell_type": "markdown",
   "metadata": {},
   "source": [
    "### 2. 콜백 함수 만들기"
   ]
  },
  {
   "cell_type": "code",
   "execution_count": 10,
   "metadata": {},
   "outputs": [
    {
     "name": "stderr",
     "output_type": "stream",
     "text": [
      "Using TensorFlow backend.\n"
     ]
    }
   ],
   "source": [
    "from datetime import datetime\n",
    "import os\n",
    "import keras\n"
   ]
  },
  {
   "cell_type": "code",
   "execution_count": 11,
   "metadata": {},
   "outputs": [],
   "source": [
    "save_dir = './my_log'\n",
    "\n",
    "if not os.path.isdir(save_dir):\n",
    "    os.makedirs(save_dir)\n",
    "\n",
    "    \n",
    "project_name = 'dog_cat_CNN_model'"
   ]
  },
  {
   "cell_type": "code",
   "execution_count": 12,
   "metadata": {},
   "outputs": [],
   "source": [
    "def save_file():\n",
    "    time = datetime.today()\n",
    "    yy = time.year\n",
    "    mon = time.month\n",
    "    dd = time.day\n",
    "    hh = time.hour\n",
    "    mm = time.minute\n",
    "    sec = time.second\n",
    "    time_name = str(yy) +  str(mon) + str(dd) + str(hh) + str(mm) +  str(sec) +'_my_' + project_name + '_model.h5'\n",
    "    file_name = os.path.join(save_dir,time_name)\n",
    "    return file_name\n"
   ]
  },
  {
   "cell_type": "code",
   "execution_count": 13,
   "metadata": {},
   "outputs": [],
   "source": [
    "callbacks = [\n",
    "    \n",
    "    keras.callbacks.TensorBoard(\n",
    "    log_dir = save_dir,\n",
    "    write_graph=True,\n",
    "    write_images=True\n",
    "    ),\n",
    "    \n",
    "    keras.callbacks.EarlyStopping(\n",
    "    monitor = 'val_acc',\n",
    "        patience=10,\n",
    "    ),\n",
    "    keras.callbacks.ModelCheckpoint(\n",
    "    filepath= save_file(),\n",
    "    monitor = 'val_loss',\n",
    "    save_best_only = True,\n",
    "    )\n",
    "]"
   ]
  },
  {
   "cell_type": "markdown",
   "metadata": {},
   "source": [
    "### 3. 모델 구성"
   ]
  },
  {
   "cell_type": "code",
   "execution_count": 14,
   "metadata": {},
   "outputs": [],
   "source": [
    "from keras import Input\n",
    "from keras import layers ,models, losses ,optimizers"
   ]
  },
  {
   "cell_type": "code",
   "execution_count": 20,
   "metadata": {},
   "outputs": [],
   "source": [
    "batch_size = 256\n",
    "no_classes = 1\n",
    "epochs = 50\n",
    "image_height, image_width = 150,150\n",
    "input_shape = (image_height,image_width,3)"
   ]
  },
  {
   "cell_type": "code",
   "execution_count": 16,
   "metadata": {},
   "outputs": [],
   "source": [
    "def cnn_api(input_shape):\n",
    "    \n",
    "    input_tensor =Input(input_shape, name = \"input\")\n",
    "    \n",
    "    x = layers.Conv2D(filters= 32 ,kernel_size= (3,3) , padding= \"same\", activation='relu')(input_tensor)  \n",
    "    x = layers.Conv2D(filters= 64 ,kernel_size= (3,3) , padding= \"same\", activation='relu')(x) \n",
    "    x = layers.Conv2D(filters= 128 ,kernel_size= (3,3) , padding= \"same\", activation='relu')(x)\n",
    "    x = layers.Flatten()(x)\n",
    "    x = layers.Dense(units= 1024 , activation='relu')(x)\n",
    "    \n",
    "    output_tensor = layers.Dense(units= no_classes, activation= 'sigmoid', name= \"output\")(x)\n",
    "    \n",
    "    model = models.Model([input_tensor],[output_tensor])\n",
    "    \n",
    "    model.compile(loss = losses.binary_crossentropy, optimizer= optimizers.RMSprop(lr=0.0001), metrics=['acc'])\n",
    "    return model\n",
    "    "
   ]
  },
  {
   "cell_type": "markdown",
   "metadata": {},
   "source": [
    "### 4. 데이터 전처리"
   ]
  },
  {
   "cell_type": "code",
   "execution_count": 17,
   "metadata": {},
   "outputs": [],
   "source": [
    "from keras.preprocessing.image import ImageDataGenerator\n",
    "from PIL import Image\n"
   ]
  },
  {
   "cell_type": "code",
   "execution_count": 21,
   "metadata": {},
   "outputs": [
    {
     "name": "stdout",
     "output_type": "stream",
     "text": [
      "Found 20000 images belonging to 2 classes.\n",
      "Found 5000 images belonging to 2 classes.\n",
      "WARNING:tensorflow:From C:\\Users\\redap\\.conda\\envs\\cuda\\lib\\site-packages\\tensorflow\\python\\framework\\op_def_library.py:263: colocate_with (from tensorflow.python.framework.ops) is deprecated and will be removed in a future version.\n",
      "Instructions for updating:\n",
      "Colocations handled automatically by placer.\n",
      "WARNING:tensorflow:From C:\\Users\\redap\\.conda\\envs\\cuda\\lib\\site-packages\\keras\\backend\\tensorflow_backend.py:3445: calling dropout (from tensorflow.python.ops.nn_ops) with keep_prob is deprecated and will be removed in a future version.\n",
      "Instructions for updating:\n",
      "Please use `rate` instead of `keep_prob`. Rate should be set to `rate = 1 - keep_prob`.\n",
      "WARNING:tensorflow:From C:\\Users\\redap\\.conda\\envs\\cuda\\lib\\site-packages\\tensorflow\\python\\ops\\math_ops.py:3066: to_int32 (from tensorflow.python.ops.math_ops) is deprecated and will be removed in a future version.\n",
      "Instructions for updating:\n",
      "Use tf.cast instead.\n",
      "Epoch 1/50\n",
      "78/78 [==============================] - 25s 319ms/step - loss: 0.8288 - acc: 0.5229 - val_loss: 0.6913 - val_acc: 0.5097\n",
      "Epoch 2/50\n",
      "78/78 [==============================] - 22s 279ms/step - loss: 0.6768 - acc: 0.5716 - val_loss: 0.6705 - val_acc: 0.6351\n",
      "Epoch 3/50\n",
      "78/78 [==============================] - 22s 283ms/step - loss: 0.6467 - acc: 0.6132 - val_loss: 0.6453 - val_acc: 0.6503\n",
      "Epoch 4/50\n",
      "78/78 [==============================] - 22s 283ms/step - loss: 0.6160 - acc: 0.6504 - val_loss: 0.6161 - val_acc: 0.6682\n",
      "Epoch 5/50\n",
      "78/78 [==============================] - 22s 283ms/step - loss: 0.5914 - acc: 0.6759 - val_loss: 0.5911 - val_acc: 0.6872\n",
      "Epoch 6/50\n",
      "78/78 [==============================] - 22s 282ms/step - loss: 0.5697 - acc: 0.6960 - val_loss: 0.5738 - val_acc: 0.6933\n",
      "Epoch 7/50\n",
      "78/78 [==============================] - 22s 284ms/step - loss: 0.5497 - acc: 0.7178 - val_loss: 0.5625 - val_acc: 0.7045\n",
      "Epoch 8/50\n",
      "78/78 [==============================] - 22s 282ms/step - loss: 0.5353 - acc: 0.7234 - val_loss: 0.5627 - val_acc: 0.6969\n",
      "Epoch 9/50\n",
      "78/78 [==============================] - 22s 284ms/step - loss: 0.5206 - acc: 0.7359 - val_loss: 0.5421 - val_acc: 0.7137\n",
      "Epoch 10/50\n",
      "78/78 [==============================] - 22s 284ms/step - loss: 0.5098 - acc: 0.7453 - val_loss: 0.5337 - val_acc: 0.7192\n",
      "Epoch 11/50\n",
      "78/78 [==============================] - 22s 281ms/step - loss: 0.4960 - acc: 0.7533 - val_loss: 0.5287 - val_acc: 0.7247\n",
      "Epoch 12/50\n",
      "78/78 [==============================] - 22s 283ms/step - loss: 0.4849 - acc: 0.7658 - val_loss: 0.5451 - val_acc: 0.7007\n",
      "Epoch 13/50\n",
      "78/78 [==============================] - 22s 281ms/step - loss: 0.4725 - acc: 0.7701 - val_loss: 0.4951 - val_acc: 0.7521\n",
      "Epoch 14/50\n",
      "78/78 [==============================] - 22s 281ms/step - loss: 0.4644 - acc: 0.7784 - val_loss: 0.5038 - val_acc: 0.7530\n",
      "Epoch 15/50\n",
      "78/78 [==============================] - 22s 284ms/step - loss: 0.4548 - acc: 0.7824 - val_loss: 0.4908 - val_acc: 0.7485\n",
      "Epoch 16/50\n",
      "78/78 [==============================] - 22s 281ms/step - loss: 0.4468 - acc: 0.7906 - val_loss: 0.4811 - val_acc: 0.7711\n",
      "Epoch 17/50\n",
      "78/78 [==============================] - 22s 283ms/step - loss: 0.4309 - acc: 0.8009 - val_loss: 0.5748 - val_acc: 0.6967\n",
      "Epoch 18/50\n",
      "78/78 [==============================] - 22s 285ms/step - loss: 0.4269 - acc: 0.8030 - val_loss: 0.4749 - val_acc: 0.7713\n",
      "Epoch 19/50\n",
      "78/78 [==============================] - 22s 284ms/step - loss: 0.4141 - acc: 0.8094 - val_loss: 0.4760 - val_acc: 0.7673\n",
      "Epoch 20/50\n",
      "78/78 [==============================] - 22s 285ms/step - loss: 0.4068 - acc: 0.8129 - val_loss: 0.5125 - val_acc: 0.7355\n",
      "Epoch 21/50\n",
      "78/78 [==============================] - 22s 286ms/step - loss: 0.3989 - acc: 0.8194 - val_loss: 0.4568 - val_acc: 0.7763\n",
      "Epoch 22/50\n",
      "78/78 [==============================] - 22s 284ms/step - loss: 0.3872 - acc: 0.8230 - val_loss: 0.4959 - val_acc: 0.7441\n",
      "Epoch 23/50\n",
      "78/78 [==============================] - 22s 285ms/step - loss: 0.3732 - acc: 0.8336 - val_loss: 0.4637 - val_acc: 0.7677\n",
      "Epoch 24/50\n",
      "78/78 [==============================] - 22s 286ms/step - loss: 0.3711 - acc: 0.8357 - val_loss: 0.4674 - val_acc: 0.7658\n",
      "Epoch 25/50\n",
      "78/78 [==============================] - 22s 286ms/step - loss: 0.3620 - acc: 0.8372 - val_loss: 0.4477 - val_acc: 0.7835\n",
      "Epoch 26/50\n",
      "78/78 [==============================] - 22s 286ms/step - loss: 0.3494 - acc: 0.8468 - val_loss: 0.4903 - val_acc: 0.7561\n",
      "Epoch 27/50\n",
      "78/78 [==============================] - 22s 288ms/step - loss: 0.3449 - acc: 0.8475 - val_loss: 0.4268 - val_acc: 0.8033\n",
      "Epoch 28/50\n",
      "78/78 [==============================] - 22s 284ms/step - loss: 0.3286 - acc: 0.8578 - val_loss: 0.4560 - val_acc: 0.7835\n",
      "Epoch 29/50\n",
      "78/78 [==============================] - 22s 284ms/step - loss: 0.3154 - acc: 0.8650 - val_loss: 0.4269 - val_acc: 0.8056\n",
      "Epoch 30/50\n",
      "78/78 [==============================] - 22s 283ms/step - loss: 0.3153 - acc: 0.8642 - val_loss: 0.4607 - val_acc: 0.7726\n",
      "Epoch 31/50\n",
      "78/78 [==============================] - 22s 284ms/step - loss: 0.3023 - acc: 0.8718 - val_loss: 0.4352 - val_acc: 0.7943\n",
      "Epoch 32/50\n",
      "78/78 [==============================] - 22s 283ms/step - loss: 0.2953 - acc: 0.8760 - val_loss: 0.4531 - val_acc: 0.7829\n",
      "Epoch 33/50\n",
      "78/78 [==============================] - 22s 283ms/step - loss: 0.2803 - acc: 0.8798 - val_loss: 0.4862 - val_acc: 0.7698\n",
      "Epoch 34/50\n",
      "78/78 [==============================] - 22s 285ms/step - loss: 0.2679 - acc: 0.8887 - val_loss: 0.4480 - val_acc: 0.7955\n",
      "Epoch 35/50\n",
      "78/78 [==============================] - 22s 287ms/step - loss: 0.2624 - acc: 0.8887 - val_loss: 0.4613 - val_acc: 0.7970\n",
      "Epoch 36/50\n",
      "78/78 [==============================] - 22s 285ms/step - loss: 0.2486 - acc: 0.8972 - val_loss: 0.4461 - val_acc: 0.8004\n",
      "Epoch 37/50\n",
      "78/78 [==============================] - 22s 287ms/step - loss: 0.2379 - acc: 0.9026 - val_loss: 0.4274 - val_acc: 0.8031\n",
      "Epoch 38/50\n",
      "78/78 [==============================] - 23s 289ms/step - loss: 0.2274 - acc: 0.9086 - val_loss: 0.4603 - val_acc: 0.8000\n",
      "Epoch 39/50\n",
      "78/78 [==============================] - 23s 290ms/step - loss: 0.2144 - acc: 0.9139 - val_loss: 0.5347 - val_acc: 0.7624\n"
     ]
    }
   ],
   "source": [
    "train_datagen = ImageDataGenerator(rescale = 1./255)\n",
    "val_datagen = ImageDataGenerator(rescale = 1./255) # 검증데이터 스케일 조정만 합니다.\n",
    "\n",
    "train_generator = train_datagen.flow_from_directory(\n",
    "    os.path.join(copy_train_path,\"train\"),\n",
    "    target_size = (image_height, image_height),\n",
    "    batch_size = batch_size,\n",
    "    class_mode = \"binary\"\n",
    "    )\n",
    "validation_generator = val_datagen.flow_from_directory(\n",
    "    os.path.join(copy_train_path,\"validation\"),\n",
    "    target_size = (image_height, image_height),\n",
    "    batch_size = batch_size,\n",
    "    class_mode = \"binary\"\n",
    "    )\n",
    "\n",
    "#gpu가 두개로 병렬로 각각 다른 작업을 원하시면\n",
    "# with를 사용하시고 gpu:0 , gpu:1 이러게 모델을 지정하시면 됩니다. \n",
    "# from tensorflow as tf\n",
    "# with tf.device('gpu:0'):\n",
    "#     newType_model = cnn_api(input_shape)\n",
    "    \n",
    "newType_model = cnn_api(input_shape)\n",
    "hist = newType_model.fit_generator(train_generator, steps_per_epoch = 20000//batch_size, epochs= epochs,\n",
    "                                  validation_data = validation_generator, validation_steps = 5000//batch_size,\n",
    "                                  callbacks = callbacks)"
   ]
  },
  {
   "cell_type": "code",
   "execution_count": 23,
   "metadata": {},
   "outputs": [
    {
     "data": {
      "image/png": "[encoded data removed]",
      "text/plain": [
       "<Figure size 432x288 with 1 Axes>"
      ]
     },
     "metadata": {
      "needs_background": "light"
     },
     "output_type": "display_data"
    },
    {
     "data": {
      "image/png": "[encoded data removed]",
      "text/plain": [
       "<Figure size 432x288 with 1 Axes>"
      ]
     },
     "metadata": {
      "needs_background": "light"
     },
     "output_type": "display_data"
    }
   ],
   "source": [
    "import matplotlib.pyplot as plt\n",
    "train_acc = hist.history['acc']\n",
    "val_acc = hist.history['val_acc']\n",
    "\n",
    "train_loss = hist.history['loss']\n",
    "val_loss = hist.history['val_loss']\n",
    "epochs = range(1,len(train_acc)+1)\n",
    "\n",
    "plt.plot(epochs,train_acc,'bo',label='Training acc')\n",
    "plt.plot(epochs,val_acc,'r',label='Val acc')\n",
    "plt.title('Training and Val accuracy')\n",
    "plt.legend()\n",
    "\n",
    "plt.figure()\n",
    "plt.plot(epochs,train_loss,'bo',label='Training loss')\n",
    "plt.plot(epochs,val_loss,'r',label='Val loss')\n",
    "plt.title('Training and Val loss')\n",
    "plt.legend()\n",
    "\n",
    "plt.show()"
   ]
  },
  {
   "cell_type": "code",
   "execution_count": null,
   "metadata": {},
   "outputs": [],
   "source": []
  }
 ],
 "metadata": {
  "kernelspec": {
   "display_name": "cuda",
   "language": "python",
   "name": "cuda"
  },
  "language_info": {
   "codemirror_mode": {
    "name": "ipython",
    "version": 3
   },
   "file_extension": ".py",
   "mimetype": "text/x-python",
   "name": "python",
   "nbconvert_exporter": "python",
   "pygments_lexer": "ipython3",
   "version": "3.6.8"
  }
 },
 "nbformat": 4,
 "nbformat_minor": 2
}
